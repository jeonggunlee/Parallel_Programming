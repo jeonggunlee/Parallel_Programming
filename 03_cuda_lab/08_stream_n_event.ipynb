{
  "nbformat": 4,
  "nbformat_minor": 0,
  "metadata": {
    "colab": {
      "name": "08_stream_n_event.ipynb",
      "version": "0.3.2",
      "provenance": [],
      "include_colab_link": true
    },
    "kernelspec": {
      "name": "python3",
      "display_name": "Python 3"
    },
    "accelerator": "GPU"
  },
  "cells": [
    {
      "cell_type": "markdown",
      "metadata": {
        "id": "view-in-github",
        "colab_type": "text"
      },
      "source": [
        "<a href=\"https://colab.research.google.com/github/jeonggunlee/CUDATeaching/blob/master/03_cuda_lab/08_stream_n_event.ipynb\" target=\"_parent\"><img src=\"https://colab.research.google.com/assets/colab-badge.svg\" alt=\"Open In Colab\"/></a>"
      ]
    },
    {
      "cell_type": "markdown",
      "metadata": {
        "id": "kxcA86P9S6GD",
        "colab_type": "text"
      },
      "source": [
        "## Stream and Events\n",
        "\n",
        "동기화를 위한 CUDA API 함수"
      ]
    },
    {
      "cell_type": "code",
      "metadata": {
        "id": "9aBuaeoeSQ2f",
        "colab_type": "code",
        "colab": {
          "base_uri": "https://localhost:8080/",
          "height": 35
        },
        "outputId": "a4914ccf-395d-4721-ea47-d4285d48ba89"
      },
      "source": [
        "%%writefile sync.cu\n",
        "\n",
        "/* Copyright (c) 1993-2015, NVIDIA CORPORATION. All rights reserved.\n",
        " *\n",
        " * Redistribution and use in source and binary forms, with or without\n",
        " * modification, are permitted provided that the following conditions\n",
        " * are met:\n",
        " *  * Redistributions of source code must retain the above copyright\n",
        " *    notice, this list of conditions and the following disclaimer.\n",
        " *  * Redistributions in binary form must reproduce the above copyright\n",
        " *    notice, this list of conditions and the following disclaimer in the\n",
        " *    documentation and/or other materials provided with the distribution.\n",
        " *  * Neither the name of NVIDIA CORPORATION nor the names of its\n",
        " *    contributors may be used to endorse or promote products derived\n",
        " *    from this software without specific prior written permission.\n",
        " *\n",
        " * THIS SOFTWARE IS PROVIDED BY THE COPYRIGHT HOLDERS ``AS IS'' AND ANY\n",
        " * EXPRESS OR IMPLIED WARRANTIES, INCLUDING, BUT NOT LIMITED TO, THE\n",
        " * IMPLIED WARRANTIES OF MERCHANTABILITY AND FITNESS FOR A PARTICULAR\n",
        " * PURPOSE ARE DISCLAIMED.  IN NO EVENT SHALL THE COPYRIGHT OWNER OR\n",
        " * CONTRIBUTORS BE LIABLE FOR ANY DIRECT, INDIRECT, INCIDENTAL, SPECIAL,\n",
        " * EXEMPLARY, OR CONSEQUENTIAL DAMAGES (INCLUDING, BUT NOT LIMITED TO,\n",
        " * PROCUREMENT OF SUBSTITUTE GOODS OR SERVICES; LOSS OF USE, DATA, OR\n",
        " * PROFITS; OR BUSINESS INTERRUPTION) HOWEVER CAUSED AND ON ANY THEORY\n",
        " * OF LIABILITY, WHETHER IN CONTRACT, STRICT LIABILITY, OR TORT\n",
        " * (INCLUDING NEGLIGENCE OR OTHERWISE) ARISING IN ANY WAY OUT OF THE USE\n",
        " * OF THIS SOFTWARE, EVEN IF ADVISED OF THE POSSIBILITY OF SUCH DAMAGE.\n",
        " */\n",
        "\n",
        "#include <stdio.h>\n",
        "\n",
        "// Convenience function for checking CUDA runtime API results\n",
        "// can be wrapped around any runtime API call. No-op in release builds.\n",
        "inline\n",
        "cudaError_t checkCuda(cudaError_t result)\n",
        "{\n",
        "#if defined(DEBUG) || defined(_DEBUG)\n",
        "  if (result != cudaSuccess) {\n",
        "    fprintf(stderr, \"CUDA Runtime Error: %s\\n\", cudaGetErrorString(result));\n",
        "    assert(result == cudaSuccess);\n",
        "  }\n",
        "#endif\n",
        "  return result;\n",
        "}\n",
        "\n",
        "__global__ void kernel(float *a, int offset)\n",
        "{\n",
        "  int i = offset + threadIdx.x + blockIdx.x*blockDim.x;\n",
        "  float x = (float)i;\n",
        "  float s = sinf(x); \n",
        "  float c = cosf(x);\n",
        "  a[i] = a[i] + sqrtf(s*s+c*c);\n",
        "}\n",
        "\n",
        "float maxError(float *a, int n) \n",
        "{\n",
        "  float maxE = 0;\n",
        "  for (int i = 0; i < n; i++) {\n",
        "    float error = fabs(a[i]-1.0f);\n",
        "    if (error > maxE) maxE = error;\n",
        "  }\n",
        "  return maxE;\n",
        "}\n",
        "\n",
        "int main(int argc, char **argv)\n",
        "{\n",
        "  const int blockSize = 256, nStreams = 4;\n",
        "  const int n = 4 * 1024 * blockSize * nStreams;\n",
        "  const int streamSize = n / nStreams;\n",
        "  const int streamBytes = streamSize * sizeof(float);\n",
        "  const int bytes = n * sizeof(float);\n",
        "   \n",
        "  int devId = 0;\n",
        "  if (argc > 1) devId = atoi(argv[1]);\n",
        "\n",
        "  cudaDeviceProp prop;\n",
        "  checkCuda( cudaGetDeviceProperties(&prop, devId));\n",
        "  printf(\"Device : %s\\n\", prop.name);\n",
        "  checkCuda( cudaSetDevice(devId) );\n",
        "  \n",
        "  // allocate pinned host memory and device memory\n",
        "  float *a, *d_a;\n",
        "  checkCuda( cudaMallocHost((void**)&a, bytes) );      // host pinned\n",
        "  checkCuda( cudaMalloc((void**)&d_a, bytes) ); // device\n",
        "\n",
        "  float ms; // elapsed time in milliseconds\n",
        "  \n",
        "  // create events and streams\n",
        "  cudaEvent_t startEvent, stopEvent, dummyEvent;\n",
        "  cudaStream_t stream[nStreams];\n",
        "  checkCuda( cudaEventCreate(&startEvent) );\n",
        "  checkCuda( cudaEventCreate(&stopEvent) );\n",
        "  checkCuda( cudaEventCreate(&dummyEvent) );\n",
        "  for (int i = 0; i < nStreams; ++i)\n",
        "    checkCuda( cudaStreamCreate(&stream[i]) );\n",
        "\n",
        "  ///////////////////////////////////////////////////////////////\n",
        "  ///////////////////////////////////////////////////////////////  \n",
        "  // baseline case - sequential transfer and execute\n",
        "  memset(a, 0, bytes);\n",
        "  checkCuda( cudaEventRecord(startEvent,0) );\n",
        "  checkCuda( cudaMemcpy(d_a, a, bytes, cudaMemcpyHostToDevice) );\n",
        "  kernel<<<n/blockSize, blockSize>>>(d_a, 0);\n",
        "  checkCuda( cudaMemcpy(a, d_a, bytes, cudaMemcpyDeviceToHost) );\n",
        "  checkCuda( cudaEventRecord(stopEvent, 0) );\n",
        "  checkCuda( cudaEventSynchronize(stopEvent) );\n",
        "  checkCuda( cudaEventElapsedTime(&ms, startEvent, stopEvent) );\n",
        "  printf(\"Time for sequential transfer and execute (ms): %f\\n\", ms);\n",
        "  printf(\"  max error: %e\\n\", maxError(a, n));\n",
        "\n",
        "  ///////////////////////////////////////////////////////////////\n",
        "  ///////////////////////////////////////////////////////////////\n",
        "  // asynchronous version 1: loop over {copy, kernel, copy}\n",
        "  memset(a, 0, bytes);\n",
        "  checkCuda( cudaEventRecord(startEvent,0) );\n",
        "  for (int i = 0; i < nStreams; ++i) {\n",
        "    int offset = i * streamSize;\n",
        "    checkCuda( cudaMemcpyAsync(&d_a[offset], &a[offset], \n",
        "                               streamBytes, cudaMemcpyHostToDevice, \n",
        "                               stream[i]) );\n",
        "    kernel<<<streamSize/blockSize, blockSize, 0, stream[i]>>>(d_a, offset);\n",
        "    checkCuda( cudaMemcpyAsync(&a[offset], &d_a[offset], \n",
        "                               streamBytes, cudaMemcpyDeviceToHost,\n",
        "                               stream[i]) );\n",
        "  }\n",
        "  checkCuda( cudaEventRecord(stopEvent, 0) );\n",
        "  checkCuda( cudaEventSynchronize(stopEvent) );\n",
        "  checkCuda( cudaEventElapsedTime(&ms, startEvent, stopEvent) );\n",
        "  printf(\"Time for asynchronous V1 transfer and execute (ms): %f\\n\", ms);\n",
        "  printf(\"  max error: %e\\n\", maxError(a, n));\n",
        "\n",
        "  ///////////////////////////////////////////////////////////////\n",
        "  ///////////////////////////////////////////////////////////////    \n",
        "  // asynchronous version 2: \n",
        "  // loop over copy, loop over kernel, loop over copy\n",
        "    \n",
        "  memset(a, 0, bytes);\n",
        "  checkCuda( cudaEventRecord(startEvent,0) );\n",
        "  for (int i = 0; i < nStreams; ++i)\n",
        "  {\n",
        "    int offset = i * streamSize;\n",
        "    checkCuda( cudaMemcpyAsync(&d_a[offset], &a[offset], \n",
        "                               streamBytes, cudaMemcpyHostToDevice,\n",
        "                               stream[i]) );\n",
        "  }\n",
        "  for (int i = 0; i < nStreams; ++i)\n",
        "  {\n",
        "    int offset = i * streamSize;\n",
        "    kernel<<<streamSize/blockSize, blockSize, 0, stream[i]>>>(d_a, offset);\n",
        "  }\n",
        "  for (int i = 0; i < nStreams; ++i)\n",
        "  {\n",
        "    int offset = i * streamSize;\n",
        "    checkCuda( cudaMemcpyAsync(&a[offset], &d_a[offset], \n",
        "                               streamBytes, cudaMemcpyDeviceToHost,\n",
        "                               stream[i]) );\n",
        "  }\n",
        "  checkCuda( cudaEventRecord(stopEvent, 0) );\n",
        "  checkCuda( cudaEventSynchronize(stopEvent) );\n",
        "  checkCuda( cudaEventElapsedTime(&ms, startEvent, stopEvent) );\n",
        "  printf(\"Time for asynchronous V2 transfer and execute (ms): %f\\n\", ms);\n",
        "  printf(\"  max error: %e\\n\", maxError(a, n));\n",
        "\n",
        "  // cleanup\n",
        "  checkCuda( cudaEventDestroy(startEvent) );\n",
        "  checkCuda( cudaEventDestroy(stopEvent) );\n",
        "  checkCuda( cudaEventDestroy(dummyEvent) );\n",
        "  for (int i = 0; i < nStreams; ++i)\n",
        "    checkCuda( cudaStreamDestroy(stream[i]) );\n",
        "  cudaFree(d_a);\n",
        "  cudaFreeHost(a);\n",
        "\n",
        "  return 0;\n",
        "}"
      ],
      "execution_count": 2,
      "outputs": [
        {
          "output_type": "stream",
          "text": [
            "Writing sync.cu\n"
          ],
          "name": "stdout"
        }
      ]
    },
    {
      "cell_type": "code",
      "metadata": {
        "id": "2HOWoTl3SUXq",
        "colab_type": "code",
        "colab": {}
      },
      "source": [
        "!nvcc -o sync sync.cu"
      ],
      "execution_count": 0,
      "outputs": []
    },
    {
      "cell_type": "code",
      "metadata": {
        "id": "kGOoLb82SbwL",
        "colab_type": "code",
        "colab": {
          "base_uri": "https://localhost:8080/",
          "height": 143
        },
        "outputId": "bd964375-822e-44ea-dd23-a307a9a13a5f"
      },
      "source": [
        "!./sync"
      ],
      "execution_count": 4,
      "outputs": [
        {
          "output_type": "stream",
          "text": [
            "Device : Tesla T4\n",
            "Time for sequential transfer and execute (ms): 3.384064\n",
            "  max error: 1.192093e-07\n",
            "Time for asynchronous V1 transfer and execute (ms): 2.023168\n",
            "  max error: 1.192093e-07\n",
            "Time for asynchronous V2 transfer and execute (ms): 1.992160\n",
            "  max error: 1.192093e-07\n"
          ],
          "name": "stdout"
        }
      ]
    },
    {
      "cell_type": "code",
      "metadata": {
        "id": "yGM7cXi0SdL3",
        "colab_type": "code",
        "colab": {
          "base_uri": "https://localhost:8080/",
          "height": 323
        },
        "outputId": "84f25bce-6654-4248-d739-eed95e3e0988"
      },
      "source": [
        "!nvidia-smi"
      ],
      "execution_count": 5,
      "outputs": [
        {
          "output_type": "stream",
          "text": [
            "Sun Jun  9 08:13:49 2019       \n",
            "+-----------------------------------------------------------------------------+\n",
            "| NVIDIA-SMI 418.67       Driver Version: 410.79       CUDA Version: 10.0     |\n",
            "|-------------------------------+----------------------+----------------------+\n",
            "| GPU  Name        Persistence-M| Bus-Id        Disp.A | Volatile Uncorr. ECC |\n",
            "| Fan  Temp  Perf  Pwr:Usage/Cap|         Memory-Usage | GPU-Util  Compute M. |\n",
            "|===============================+======================+======================|\n",
            "|   0  Tesla T4            Off  | 00000000:00:04.0 Off |                    0 |\n",
            "| N/A   59C    P8    16W /  70W |      0MiB / 15079MiB |      0%      Default |\n",
            "+-------------------------------+----------------------+----------------------+\n",
            "                                                                               \n",
            "+-----------------------------------------------------------------------------+\n",
            "| Processes:                                                       GPU Memory |\n",
            "|  GPU       PID   Type   Process name                             Usage      |\n",
            "|=============================================================================|\n",
            "|  No running processes found                                                 |\n",
            "+-----------------------------------------------------------------------------+\n"
          ],
          "name": "stdout"
        }
      ]
    },
    {
      "cell_type": "code",
      "metadata": {
        "id": "QZhxoGQjTPb6",
        "colab_type": "code",
        "colab": {}
      },
      "source": [
        ""
      ],
      "execution_count": 0,
      "outputs": []
    }
  ]
}