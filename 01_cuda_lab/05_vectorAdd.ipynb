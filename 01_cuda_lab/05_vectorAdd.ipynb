{
  "nbformat": 4,
  "nbformat_minor": 0,
  "metadata": {
    "colab": {
      "name": "05_vectorAdd.ipynb",
      "version": "0.3.2",
      "provenance": [],
      "include_colab_link": true
    },
    "kernelspec": {
      "name": "python3",
      "display_name": "Python 3"
    },
    "accelerator": "GPU"
  },
  "cells": [
    {
      "cell_type": "markdown",
      "metadata": {
        "id": "view-in-github",
        "colab_type": "text"
      },
      "source": [
        "<a href=\"https://colab.research.google.com/github/jeonggunlee/CUDATeaching/blob/master/01_cuda_lab/05_vectorAdd.ipynb\" target=\"_parent\"><img src=\"https://colab.research.google.com/assets/colab-badge.svg\" alt=\"Open In Colab\"/></a>"
      ]
    },
    {
      "cell_type": "markdown",
      "metadata": {
        "id": "TCTlP-YloFJP",
        "colab_type": "text"
      },
      "source": [
        "## Vector Addition"
      ]
    },
    {
      "cell_type": "code",
      "metadata": {
        "id": "27t6Hx4MLUpA",
        "colab_type": "code",
        "outputId": "9b8c1799-0020-42e0-8afb-8d587266d1c2",
        "colab": {
          "base_uri": "https://localhost:8080/",
          "height": 35
        }
      },
      "source": [
        "%%writefile vecAdd.cu\n",
        "\n",
        "#include <iostream>\n",
        "#include <cuda.h>\n",
        "using namespace std;\n",
        "\n",
        "int *a, *b;  // host data\n",
        "int *c, *c2;  // results\n",
        "\n",
        "__global__ void vecAdd(int *A,int *B,int *C,int N)\n",
        "{\n",
        "   int i = blockIdx.x * blockDim.x + threadIdx.x;\n",
        "   C[i] = A[i] + B[i]; \n",
        "}\n",
        "\n",
        "void vecAdd_h(int *A1,int *B1, int *C1, int N)\n",
        "{\n",
        "   for(int i=0;i<N;i++)\n",
        "      C1[i] = A1[i] * B1[i];\n",
        "}\n",
        "\n",
        "int main(int argc,char **argv)\n",
        "{\n",
        "   printf(\"Begin \\n\");\n",
        "   int n=10000000;\n",
        "   int nBytes = n*sizeof(int);\n",
        "   int block_size, block_no; \n",
        "    \n",
        "   a = (int *)malloc(nBytes);\n",
        "   b = (int *)malloc(nBytes);\n",
        "   c = (int *)malloc(nBytes);\n",
        "   c2 = (int *)malloc(nBytes);\n",
        "    \n",
        "   int *a_d,*b_d,*c_d;\n",
        "   block_size=4000;\n",
        "   block_no = n/block_size;\n",
        "   dim3 dimBlock(block_size,1,1);\n",
        "   dim3 dimGrid(block_no,1,1);\n",
        "    \n",
        "   for(int i=0;i<n;i++)\n",
        "      a[i]=i,b[i]=i;\n",
        "    \n",
        "   printf(\"Allocating device memory on host..\\n\");\n",
        "   cudaMalloc((void **)&a_d,n*sizeof(int));\n",
        "   cudaMalloc((void **)&b_d,n*sizeof(int));\n",
        "   cudaMalloc((void **)&c_d,n*sizeof(int));\n",
        "    \n",
        "   printf(\"Copying to device..\\n\");\n",
        "   cudaMemcpy(a_d,a,n*sizeof(int),cudaMemcpyHostToDevice);\n",
        "   cudaMemcpy(b_d,b,n*sizeof(int),cudaMemcpyHostToDevice);\n",
        "   clock_t start_d=clock();\n",
        "    \n",
        "   printf(\"Doing GPU Vector add\\n\");\n",
        "   vecAdd<<<block_no,block_size>>>(a_d,b_d,c_d,n);\n",
        "   cudaDeviceSynchronize();\n",
        "   clock_t end_d = clock();\n",
        "   clock_t start_h = clock();\n",
        "    \n",
        "   printf(\"Doing CPU Vector add\\n\");\n",
        "   vecAdd_h(a,b,c2,n);\n",
        "   clock_t end_h = clock();\n",
        "    \n",
        "   double time_d = (double)(end_d-start_d)/CLOCKS_PER_SEC;\n",
        "   double time_h = (double)(end_h-start_h)/CLOCKS_PER_SEC;\n",
        "    \n",
        "   cudaMemcpy(c,c_d,n*sizeof(int),cudaMemcpyDeviceToHost);\n",
        "    \n",
        "   printf(\"on GPU: %f, on CPU: %f\\n\",time_d,time_h);\n",
        "   printf(\"Speedup: %f \\n\", time_h/time_d);\n",
        "   cudaFree(a_d);\n",
        "   cudaFree(b_d);\n",
        "   cudaFree(c_d);\n",
        "   return 0;\n",
        "}"
      ],
      "execution_count": 0,
      "outputs": [
        {
          "output_type": "stream",
          "text": [
            "Overwriting vecAdd.cu\n"
          ],
          "name": "stdout"
        }
      ]
    },
    {
      "cell_type": "code",
      "metadata": {
        "id": "7fN5slLYLdqI",
        "colab_type": "code",
        "outputId": "2f1d7fe2-4b07-4aa7-f71e-3b5c49152451",
        "colab": {
          "base_uri": "https://localhost:8080/",
          "height": 35
        }
      },
      "source": [
        "!nvcc -o vecAdd vecAdd.cu\n",
        "!ls"
      ],
      "execution_count": 0,
      "outputs": [
        {
          "output_type": "stream",
          "text": [
            "sample_data  vecAdd  vecAdd.cu\n"
          ],
          "name": "stdout"
        }
      ]
    },
    {
      "cell_type": "code",
      "metadata": {
        "id": "aur_m904LgN4",
        "colab_type": "code",
        "outputId": "a227bd6c-30b7-4b30-83f7-a42ab25bcf1e",
        "colab": {
          "base_uri": "https://localhost:8080/",
          "height": 143
        }
      },
      "source": [
        "!./vecAdd"
      ],
      "execution_count": 0,
      "outputs": [
        {
          "output_type": "stream",
          "text": [
            "Begin \n",
            "Allocating device memory on host..\n",
            "Copying to device..\n",
            "Doing GPU Vector add\n",
            "Doing CPU Vector add\n",
            "on GPU: 0.000010, on CPU: 0.091319\n",
            "Speedup: 9131.900000 \n"
          ],
          "name": "stdout"
        }
      ]
    },
    {
      "cell_type": "code",
      "metadata": {
        "id": "606PvSijob9P",
        "colab_type": "code",
        "colab": {
          "base_uri": "https://localhost:8080/",
          "height": 335
        },
        "outputId": "943c733d-3fdb-4c64-f65f-896eb7084dbe"
      },
      "source": [
        "!nvidia-smi"
      ],
      "execution_count": 1,
      "outputs": [
        {
          "output_type": "stream",
          "text": [
            "Mon May 27 14:12:00 2019       \n",
            "+-----------------------------------------------------------------------------+\n",
            "| NVIDIA-SMI 418.67       Driver Version: 410.79       CUDA Version: 10.0     |\n",
            "|-------------------------------+----------------------+----------------------+\n",
            "| GPU  Name        Persistence-M| Bus-Id        Disp.A | Volatile Uncorr. ECC |\n",
            "| Fan  Temp  Perf  Pwr:Usage/Cap|         Memory-Usage | GPU-Util  Compute M. |\n",
            "|===============================+======================+======================|\n",
            "|   0  Tesla K80           Off  | 00000000:00:04.0 Off |                    0 |\n",
            "| N/A   33C    P8    30W / 149W |      0MiB / 11441MiB |      0%      Default |\n",
            "+-------------------------------+----------------------+----------------------+\n",
            "                                                                               \n",
            "+-----------------------------------------------------------------------------+\n",
            "| Processes:                                                       GPU Memory |\n",
            "|  GPU       PID   Type   Process name                             Usage      |\n",
            "|=============================================================================|\n",
            "|  No running processes found                                                 |\n",
            "+-----------------------------------------------------------------------------+\n"
          ],
          "name": "stdout"
        }
      ]
    },
    {
      "cell_type": "markdown",
      "metadata": {
        "id": "E47A8kq7ovll",
        "colab_type": "text"
      },
      "source": [
        "![Tesla K80](https://images.anandtech.com/doci/8729/TK80.jpg)"
      ]
    },
    {
      "cell_type": "markdown",
      "metadata": {
        "id": "wYMwOdXBoNKf",
        "colab_type": "text"
      },
      "source": [
        "\n",
        "---\n",
        "\n",
        "---\n",
        "\n",
        "###Note: nvprof cannot be work correctly on Colab.\n"
      ]
    },
    {
      "cell_type": "code",
      "metadata": {
        "id": "fxWZrnhiMh04",
        "colab_type": "code",
        "outputId": "ebd09273-9c1d-4391-9059-521239839394",
        "colab": {
          "base_uri": "https://localhost:8080/",
          "height": 179
        }
      },
      "source": [
        "!nvprof --print-gpu-trace ./vecAdd"
      ],
      "execution_count": 0,
      "outputs": [
        {
          "output_type": "stream",
          "text": [
            "======== Warning: CUDA device error, GPU profiling skipped\n",
            "Begin \n",
            "Allocating device memory on host..\n",
            "Copying to device..\n",
            "Doing GPU Vector add\n",
            "Doing CPU Vector add\n",
            "on GPU: 0.000008, on CPU: 0.090094\n",
            "Speedup: 11261.750000 \n",
            "======== Warning: No profile data collected.\n"
          ],
          "name": "stdout"
        }
      ]
    }
  ]
}