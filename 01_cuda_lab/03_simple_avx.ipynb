{
  "nbformat": 4,
  "nbformat_minor": 0,
  "metadata": {
    "colab": {
      "name": "03_simple_avx.ipynb",
      "version": "0.3.2",
      "provenance": [],
      "include_colab_link": true
    },
    "kernelspec": {
      "name": "python3",
      "display_name": "Python 3"
    }
  },
  "cells": [
    {
      "cell_type": "markdown",
      "metadata": {
        "id": "view-in-github",
        "colab_type": "text"
      },
      "source": [
        "<a href=\"https://colab.research.google.com/github/jeonggunlee/CUDATeaching/blob/master/01_cuda_lab/03_simple_avx.ipynb\" target=\"_parent\"><img src=\"https://colab.research.google.com/assets/colab-badge.svg\" alt=\"Open In Colab\"/></a>"
      ]
    },
    {
      "cell_type": "markdown",
      "metadata": {
        "id": "Sg_Mr--y-e1K",
        "colab_type": "text"
      },
      "source": [
        "# Simple Example of SIMD (AVX)"
      ]
    },
    {
      "cell_type": "markdown",
      "metadata": {
        "id": "jEjJGm8V-fTp",
        "colab_type": "text"
      },
      "source": [
        ""
      ]
    },
    {
      "cell_type": "code",
      "metadata": {
        "id": "2af1XxZT4amU",
        "colab_type": "code",
        "colab": {
          "base_uri": "https://localhost:8080/",
          "height": 35
        },
        "outputId": "315bc394-99dd-4718-e892-77d713ae0b62"
      },
      "source": [
        "%%writefile avx.cpp\n",
        "\n",
        "#include <iostream>\n",
        "\n",
        "#ifdef __AVX__\n",
        "  #include <immintrin.h>\n",
        "#else\n",
        "  #warning No AVX support - will not compile\n",
        "#endif\n",
        "\n",
        "int main(int argc, char **argv)\n",
        "{\n",
        "    __m256 a = _mm256_set_ps(8.0, 7.0, 6.0, 5.0, \n",
        "                             4.0, 3.0, 2.0, 1.0);\n",
        "    __m256 b = _mm256_set_ps(18.0, 17.0, 16.0, 15.0, \n",
        "                             14.0, 13.0, 12.0, 11.0);\n",
        "\n",
        "    __m256 c = _mm256_add_ps(a, b);\n",
        "\n",
        "    float d[8];\n",
        "    _mm256_storeu_ps(d, c);\n",
        "\n",
        "    std::cout << \"result equals \" << d[0] << \",\" << d[1]\n",
        "              << \",\" << d[2] << \",\" << d[3] << \",\"\n",
        "              << d[4] << \",\" << d[5] << \",\" << d[6] << \",\"\n",
        "              << d[7] << std::endl;\n",
        "\n",
        "    return 0;\n",
        "}"
      ],
      "execution_count": 9,
      "outputs": [
        {
          "output_type": "stream",
          "text": [
            "Overwriting avx.cpp\n"
          ],
          "name": "stdout"
        }
      ]
    },
    {
      "cell_type": "code",
      "metadata": {
        "id": "8TkDqqyl4hPZ",
        "colab_type": "code",
        "colab": {
          "base_uri": "https://localhost:8080/",
          "height": 35
        },
        "outputId": "48808ea5-f3cb-4e4d-f167-198de7e2db74"
      },
      "source": [
        "!g++ --std=c++14 -O2 -mavx avx.cpp -o avx\n",
        "!./avx"
      ],
      "execution_count": 10,
      "outputs": [
        {
          "output_type": "stream",
          "text": [
            "result equals 12,14,16,18,20,22,24,26\n"
          ],
          "name": "stdout"
        }
      ]
    }
  ]
}