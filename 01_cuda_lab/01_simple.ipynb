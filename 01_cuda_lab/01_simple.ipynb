{
  "nbformat": 4,
  "nbformat_minor": 0,
  "metadata": {
    "colab": {
      "name": "01_simple.ipynb",
      "version": "0.3.2",
      "provenance": [],
      "include_colab_link": true
    },
    "kernelspec": {
      "name": "python3",
      "display_name": "Python 3"
    }
  },
  "cells": [
    {
      "cell_type": "markdown",
      "metadata": {
        "id": "view-in-github",
        "colab_type": "text"
      },
      "source": [
        "<a href=\"https://colab.research.google.com/github/jeonggunlee/CUDATeaching/blob/master/01_cuda_lab/01_simple.ipynb\" target=\"_parent\"><img src=\"https://colab.research.google.com/assets/colab-badge.svg\" alt=\"Open In Colab\"/></a>"
      ]
    },
    {
      "cell_type": "markdown",
      "metadata": {
        "id": "CmaRC_vtUkVM",
        "colab_type": "text"
      },
      "source": [
        "# Simple C Programming with Google Colab\n",
        "\n",
        "- Instructir: Jeong-Gun Lee (School of Software, Hallym University)\n",
        "- Email: jeonggun.lee@gmail.com\n",
        "- Web: http://www.onchp.net\n"
      ]
    },
    {
      "cell_type": "markdown",
      "metadata": {
        "id": "tTHsRoTeVv9u",
        "colab_type": "text"
      },
      "source": [
        "You can make a simple C code with the name of **codename.c** through [ %%writefile codename.c ] "
      ]
    },
    {
      "cell_type": "code",
      "metadata": {
        "id": "6kfdjeSwTN2p",
        "colab_type": "code",
        "outputId": "b0a36b50-ed62-4ab7-cdee-01b486890402",
        "colab": {
          "base_uri": "https://localhost:8080/",
          "height": 35
        }
      },
      "source": [
        "%%writefile prog.c\n",
        "\n",
        "#include<stdio.h>\n",
        "\n",
        "int main(void)\n",
        "{\n",
        "    printf(\"Hello World!~~~\");\n",
        "    \n",
        "    return 0;  // 정상 완료\n",
        "}"
      ],
      "execution_count": 1,
      "outputs": [
        {
          "output_type": "stream",
          "text": [
            "Writing prog.c\n"
          ],
          "name": "stdout"
        }
      ]
    },
    {
      "cell_type": "code",
      "metadata": {
        "id": "I1QFktLNUGD1",
        "colab_type": "code",
        "outputId": "570745cd-f96c-460f-838b-60a19c53b97c",
        "colab": {
          "base_uri": "https://localhost:8080/",
          "height": 35
        }
      },
      "source": [
        "!ls"
      ],
      "execution_count": 2,
      "outputs": [
        {
          "output_type": "stream",
          "text": [
            "prog.c\tsample_data\n"
          ],
          "name": "stdout"
        }
      ]
    },
    {
      "cell_type": "code",
      "metadata": {
        "id": "eKihNbD_UHYB",
        "colab_type": "code",
        "outputId": "ccf44fcf-65fc-4308-dc0f-7528dcbcbe4a",
        "colab": {
          "base_uri": "https://localhost:8080/",
          "height": 107
        }
      },
      "source": [
        "!gcc --version"
      ],
      "execution_count": 3,
      "outputs": [
        {
          "output_type": "stream",
          "text": [
            "gcc (Ubuntu 7.4.0-1ubuntu1~18.04) 7.4.0\n",
            "Copyright (C) 2017 Free Software Foundation, Inc.\n",
            "This is free software; see the source for copying conditions.  There is NO\n",
            "warranty; not even for MERCHANTABILITY or FITNESS FOR A PARTICULAR PURPOSE.\n",
            "\n"
          ],
          "name": "stdout"
        }
      ]
    },
    {
      "cell_type": "code",
      "metadata": {
        "id": "OT9t0yXdUNzI",
        "colab_type": "code",
        "colab": {}
      },
      "source": [
        "!gcc -o hello prog.c"
      ],
      "execution_count": 0,
      "outputs": []
    },
    {
      "cell_type": "code",
      "metadata": {
        "id": "0uoBCc8UUXyn",
        "colab_type": "code",
        "outputId": "e06d0bf3-9e4a-4489-e17d-26bf14cfc7fd",
        "colab": {
          "base_uri": "https://localhost:8080/",
          "height": 35
        }
      },
      "source": [
        "!./hello"
      ],
      "execution_count": 5,
      "outputs": [
        {
          "output_type": "stream",
          "text": [
            "Hello World!~~~"
          ],
          "name": "stdout"
        }
      ]
    },
    {
      "cell_type": "markdown",
      "metadata": {
        "id": "T1aFAcEkWcy-",
        "colab_type": "text"
      },
      "source": [
        "*  *  *\n",
        "## Pthread Exercise\n",
        "*  *  *\n",
        "\n"
      ]
    },
    {
      "cell_type": "code",
      "metadata": {
        "id": "tVwPnqh0XXah",
        "colab_type": "code",
        "outputId": "c68148a7-b39e-4007-fc9e-f6a5d479d729",
        "colab": {
          "base_uri": "https://localhost:8080/",
          "height": 35
        }
      },
      "source": [
        "%%writefile pthread.c\n",
        "\n",
        "/////////////////////////////////////////////////////////\n",
        "// POSIX pthread example\n",
        "// adapted from\n",
        "// https://computing.llnl.gov/tutorials/pthreads/\n",
        "//\n",
        "// gcc thread_1.c -o th -pthread\n",
        "/////////////////////////////////////////////////////////\n",
        "\n",
        " #include <pthread.h>\n",
        " #include <stdio.h>\n",
        " \n",
        " #define NUM_THREADS 5\n",
        "\n",
        " /////////////////////////////////////////////////////////\n",
        " //  print function used as all threads\n",
        " /////////////////////////////////////////////////////////\n",
        " void *PrintHello(void *threadid)\n",
        " {\n",
        "    int tid;\n",
        "    tid = (int)threadid;\n",
        "    printf(\"Hello World! It's me, thread #%d!\\n\", tid);\n",
        "\t\n",
        "    pthread_exit(NULL);\n",
        " }\n",
        "\n",
        " /////////////////////////////////////////////////////////\n",
        " // start the threads and print in MAIN\n",
        " /////////////////////////////////////////////////////////\n",
        " int main (int argc, char *argv[])\n",
        " {\n",
        "    // array of thread handles\n",
        "\tpthread_t threads[NUM_THREADS];\n",
        "\t// create return code\n",
        "    int rc;\n",
        "\t// thread counter\n",
        "    int t;\n",
        "\n",
        "\t// launch the threads and note that the print order \n",
        "\t// between MAIN and the threads is\n",
        "\t// not deterministic and may change when you SSH in versus\n",
        "\t// use serial console, and from run to run\n",
        "    for(t=0; t<NUM_THREADS; t++){\n",
        "       printf(\"In main: creating thread %d\\n\", t);\n",
        "       rc = pthread_create(&threads[t], NULL, PrintHello, (void *)t);\n",
        "       if (rc){\n",
        "          printf(\"ERROR; return code from pthread_create() is %d\\n\", rc);\n",
        "       } // if (rc)\t\n",
        "    } //for(t=0; t<NUM_THREADS; t++)\n",
        "    /* Last thing that main() should do */\n",
        "    pthread_exit(NULL);\n",
        " } // main"
      ],
      "execution_count": 6,
      "outputs": [
        {
          "output_type": "stream",
          "text": [
            "Writing pthread.c\n"
          ],
          "name": "stdout"
        }
      ]
    },
    {
      "cell_type": "code",
      "metadata": {
        "id": "kdGyBT0Gj35L",
        "colab_type": "code",
        "outputId": "d6400a56-6eca-4e25-8686-49d54e58fbd9",
        "colab": {
          "base_uri": "https://localhost:8080/",
          "height": 161
        }
      },
      "source": [
        "!gcc -o pthread pthread.c -lpthread"
      ],
      "execution_count": 7,
      "outputs": [
        {
          "output_type": "stream",
          "text": [
            "\u001b[01m\u001b[Kpthread.c:\u001b[m\u001b[K In function ‘\u001b[01m\u001b[KPrintHello\u001b[m\u001b[K’:\n",
            "\u001b[01m\u001b[Kpthread.c:21:11:\u001b[m\u001b[K \u001b[01;35m\u001b[Kwarning: \u001b[m\u001b[Kcast from pointer to integer of different size [\u001b[01;35m\u001b[K-Wpointer-to-int-cast\u001b[m\u001b[K]\n",
            "     tid = \u001b[01;35m\u001b[K(\u001b[m\u001b[Kint)threadid;\n",
            "           \u001b[01;35m\u001b[K^\u001b[m\u001b[K\n",
            "\u001b[01m\u001b[Kpthread.c:\u001b[m\u001b[K In function ‘\u001b[01m\u001b[Kmain\u001b[m\u001b[K’:\n",
            "\u001b[01m\u001b[Kpthread.c:45:59:\u001b[m\u001b[K \u001b[01;35m\u001b[Kwarning: \u001b[m\u001b[Kcast to pointer from integer of different size [\u001b[01;35m\u001b[K-Wint-to-pointer-cast\u001b[m\u001b[K]\n",
            "        rc = pthread_create(&threads[t], NULL, PrintHello, \u001b[01;35m\u001b[K(\u001b[m\u001b[Kvoid *)t);\n",
            "                                                           \u001b[01;35m\u001b[K^\u001b[m\u001b[K\n"
          ],
          "name": "stdout"
        }
      ]
    },
    {
      "cell_type": "code",
      "metadata": {
        "id": "cWY-W0loj80K",
        "colab_type": "code",
        "outputId": "314b1e3e-b55a-47e0-cd1e-0f66b92b79fc",
        "colab": {
          "base_uri": "https://localhost:8080/",
          "height": 233
        }
      },
      "source": [
        "time !./pthread"
      ],
      "execution_count": 8,
      "outputs": [
        {
          "output_type": "stream",
          "text": [
            "In main: creating thread 0\n",
            "In main: creating thread 1\n",
            "In main: creating thread 2\n",
            "Hello World! It's me, thread #0!\n",
            "Hello World! It's me, thread #1!\n",
            "In main: creating thread 3\n",
            "In main: creating thread 4\n",
            "Hello World! It's me, thread #2!\n",
            "Hello World! It's me, thread #3!\n",
            "Hello World! It's me, thread #4!\n",
            "CPU times: user 37.2 ms, sys: 8.7 ms, total: 45.9 ms\n",
            "Wall time: 1.63 s\n"
          ],
          "name": "stdout"
        }
      ]
    },
    {
      "cell_type": "code",
      "metadata": {
        "id": "3_RHaA2nuNMd",
        "colab_type": "code",
        "outputId": "50d2559c-8a12-438f-d107-4d97805680ee",
        "colab": {
          "base_uri": "https://localhost:8080/",
          "height": 35
        }
      },
      "source": [
        "%%writefile matrixmul.c\n",
        "\n",
        "#include <pthread.h>\n",
        "#include <stdlib.h>\n",
        "#include <stdio.h>\n",
        " \n",
        "#define SIZE 1024   // Size by SIZE matrices\n",
        "int num_thrd;   // number of threads\n",
        " \n",
        "int A[SIZE][SIZE], B[SIZE][SIZE], C[SIZE][SIZE];\n",
        " \n",
        "// initialize a matrix\n",
        "void init_matrix(int m[SIZE][SIZE])\n",
        "{\n",
        "  int i, j, val = 0;\n",
        "  for (i = 0; i < SIZE; i++)\n",
        "    for (j = 0; j < SIZE; j++)\n",
        "      m[i][j] = val++;\n",
        "}\n",
        " \n",
        "void print_matrix(int m[SIZE][SIZE])\n",
        "{\n",
        "  int i, j;\n",
        "  for (i = 0; i < SIZE; i++) {\n",
        "    printf(\"\\n\\t| \");\n",
        "    for (j = 0; j < SIZE; j++)\n",
        "      printf(\"%2d \", m[i][j]);\n",
        "    printf(\"|\");\n",
        "  }\n",
        "}\n",
        " \n",
        "// thread function: taking \"slice\" as its argument\n",
        "void* multiply(void* slice)\n",
        "{\n",
        "  int s = (int)slice;   // retrive the slice info\n",
        "  int from = (s * SIZE)/num_thrd; // note that this 'slicing' works fine\n",
        "  int to = ((s+1) * SIZE)/num_thrd; // even if SIZE is not divisible by num_thrd\n",
        "  int i,j,k;\n",
        " \n",
        "  printf(\"computing slice %d (from row %d to %d)\\n\", s, from, to-1);\n",
        "  for (i = from; i < to; i++)\n",
        "  {  \n",
        "    for (j = 0; j < SIZE; j++)\n",
        "    {\n",
        "      C[i][j] = 0;\n",
        "      for ( k = 0; k < SIZE; k++)\n",
        "        C[i][j] += A[i][k]*B[k][j];\n",
        "    }\n",
        "  }\n",
        "  printf(\"finished slice %d\\n\", s);\n",
        "  return 0;\n",
        "}\n",
        " \n",
        "int main(int argc, char* argv[])\n",
        "{\n",
        "  pthread_t* thread;  // pointer to a group of threads\n",
        "  int i;\n",
        " \n",
        "  if (argc!=2)\n",
        "  {\n",
        "    printf(\"Usage: %s number_of_threads\\n\",argv[0]);\n",
        "    exit(-1);\n",
        "  }\n",
        " \n",
        "  num_thrd = atoi(argv[1]);\n",
        "  init_matrix(A);\n",
        "  init_matrix(B);\n",
        "  thread = (pthread_t*) malloc(num_thrd*sizeof(pthread_t));\n",
        " \n",
        "  // this for loop not entered if threadd number is specified as 1\n",
        "  for (i = 1; i < num_thrd; i++)\n",
        "  {\n",
        "    // creates each thread working on its own slice of i\n",
        "    if (pthread_create (&thread[i], NULL, multiply, (void*)i) != 0 )\n",
        "    {\n",
        "      perror(\"Can't create thread\");\n",
        "      free(thread);\n",
        "      exit(-1);\n",
        "    }\n",
        "  }\n",
        " \n",
        "  // main thread works on slice 0\n",
        "  // so everybody is busy\n",
        "  // main thread does everything if threadd number is specified as 1\n",
        "  multiply(0);\n",
        " \n",
        "  // main thead waiting for other thread to complete\n",
        "  for (i = 1; i < num_thrd; i++)\n",
        "    pthread_join (thread[i], NULL);\n",
        "\n",
        "/*    \n",
        "  printf(\"\\n\\n\");\n",
        "  print_matrix(A);\n",
        "  printf(\"\\n\\n\\t       * \\n\");\n",
        "  print_matrix(B);\n",
        "  printf(\"\\n\\n\\t       = \\n\");\n",
        "  print_matrix(C);\n",
        "  printf(\"\\n\\n\");\n",
        "*/ \n",
        "  free(thread);\n",
        " \n",
        "  return 0;\n",
        " \n",
        "}"
      ],
      "execution_count": 9,
      "outputs": [
        {
          "output_type": "stream",
          "text": [
            "Writing matrixmul.c\n"
          ],
          "name": "stdout"
        }
      ]
    },
    {
      "cell_type": "code",
      "metadata": {
        "id": "1OMkcqszubqt",
        "colab_type": "code",
        "outputId": "ebe37420-b7f7-49ad-af1b-45f4411a5ae9",
        "colab": {
          "base_uri": "https://localhost:8080/",
          "height": 161
        }
      },
      "source": [
        "!gcc -o matrixmul matrixmul.c -lpthread"
      ],
      "execution_count": 10,
      "outputs": [
        {
          "output_type": "stream",
          "text": [
            "\u001b[01m\u001b[Kmatrixmul.c:\u001b[m\u001b[K In function ‘\u001b[01m\u001b[Kmultiply\u001b[m\u001b[K’:\n",
            "\u001b[01m\u001b[Kmatrixmul.c:34:11:\u001b[m\u001b[K \u001b[01;35m\u001b[Kwarning: \u001b[m\u001b[Kcast from pointer to integer of different size [\u001b[01;35m\u001b[K-Wpointer-to-int-cast\u001b[m\u001b[K]\n",
            "   int s = \u001b[01;35m\u001b[K(\u001b[m\u001b[Kint)slice;   // retrive the slice info\n",
            "           \u001b[01;35m\u001b[K^\u001b[m\u001b[K\n",
            "\u001b[01m\u001b[Kmatrixmul.c:\u001b[m\u001b[K In function ‘\u001b[01m\u001b[Kmain\u001b[m\u001b[K’:\n",
            "\u001b[01m\u001b[Kmatrixmul.c:73:53:\u001b[m\u001b[K \u001b[01;35m\u001b[Kwarning: \u001b[m\u001b[Kcast to pointer from integer of different size [\u001b[01;35m\u001b[K-Wint-to-pointer-cast\u001b[m\u001b[K]\n",
            "     if (pthread_create (&thread[i], NULL, multiply, \u001b[01;35m\u001b[K(\u001b[m\u001b[Kvoid*)i) != 0 )\n",
            "                                                     \u001b[01;35m\u001b[K^\u001b[m\u001b[K\n"
          ],
          "name": "stdout"
        }
      ]
    },
    {
      "cell_type": "code",
      "metadata": {
        "id": "cXA3Z7fdufSp",
        "colab_type": "code",
        "outputId": "be79f1d2-d266-4bee-ed6d-59173a6bf5b8",
        "colab": {
          "base_uri": "https://localhost:8080/",
          "height": 89
        }
      },
      "source": [
        "time !./matrixmul 1"
      ],
      "execution_count": 11,
      "outputs": [
        {
          "output_type": "stream",
          "text": [
            "computing slice 0 (from row 0 to 1023)\n",
            "finished slice 0\n",
            "CPU times: user 120 ms, sys: 18.1 ms, total: 139 ms\n",
            "Wall time: 16 s\n"
          ],
          "name": "stdout"
        }
      ]
    },
    {
      "cell_type": "code",
      "metadata": {
        "id": "ZsMm2ftVvngu",
        "colab_type": "code",
        "outputId": "5050ef96-5f4a-4ba5-953a-368d62f7aa47",
        "colab": {
          "base_uri": "https://localhost:8080/",
          "height": 125
        }
      },
      "source": [
        "time !./matrixmul 2"
      ],
      "execution_count": 12,
      "outputs": [
        {
          "output_type": "stream",
          "text": [
            "computing slice 0 (from row 0 to 511)\n",
            "computing slice 1 (from row 512 to 1023)\n",
            "finished slice 1\n",
            "finished slice 0\n",
            "CPU times: user 116 ms, sys: 21 ms, total: 137 ms\n",
            "Wall time: 17.8 s\n"
          ],
          "name": "stdout"
        }
      ]
    },
    {
      "cell_type": "code",
      "metadata": {
        "id": "pfDPz1qxvv5l",
        "colab_type": "code",
        "outputId": "ce8d1439-ba52-468b-f7c6-02fbf3e8908e",
        "colab": {
          "base_uri": "https://localhost:8080/",
          "height": 197
        }
      },
      "source": [
        "time !./matrixmul 4"
      ],
      "execution_count": 13,
      "outputs": [
        {
          "output_type": "stream",
          "text": [
            "computing slice 1 (from row 256 to 511)\n",
            "computing slice 0 (from row 0 to 255)\n",
            "computing slice 3 (from row 768 to 1023)\n",
            "computing slice 2 (from row 512 to 767)\n",
            "finished slice 3\n",
            "finished slice 1\n",
            "finished slice 2\n",
            "finished slice 0\n",
            "CPU times: user 118 ms, sys: 18.6 ms, total: 137 ms\n",
            "Wall time: 16.5 s\n"
          ],
          "name": "stdout"
        }
      ]
    },
    {
      "cell_type": "code",
      "metadata": {
        "id": "4HG5KLeyxIMv",
        "colab_type": "code",
        "colab": {
          "base_uri": "https://localhost:8080/",
          "height": 1009
        },
        "outputId": "9b44dc86-803c-4566-8eee-14f194fafd47"
      },
      "source": [
        "!cat /proc/cpuinfo"
      ],
      "execution_count": 14,
      "outputs": [
        {
          "output_type": "stream",
          "text": [
            "processor\t: 0\n",
            "vendor_id\t: GenuineIntel\n",
            "cpu family\t: 6\n",
            "model\t\t: 63\n",
            "model name\t: Intel(R) Xeon(R) CPU @ 2.30GHz\n",
            "stepping\t: 0\n",
            "microcode\t: 0x1\n",
            "cpu MHz\t\t: 2300.000\n",
            "cache size\t: 46080 KB\n",
            "physical id\t: 0\n",
            "siblings\t: 2\n",
            "core id\t\t: 0\n",
            "cpu cores\t: 1\n",
            "apicid\t\t: 0\n",
            "initial apicid\t: 0\n",
            "fpu\t\t: yes\n",
            "fpu_exception\t: yes\n",
            "cpuid level\t: 13\n",
            "wp\t\t: yes\n",
            "flags\t\t: fpu vme de pse tsc msr pae mce cx8 apic sep mtrr pge mca cmov pat pse36 clflush mmx fxsr sse sse2 ss ht syscall nx pdpe1gb rdtscp lm constant_tsc rep_good nopl xtopology nonstop_tsc cpuid tsc_known_freq pni pclmulqdq ssse3 fma cx16 pcid sse4_1 sse4_2 x2apic movbe popcnt aes xsave avx f16c rdrand hypervisor lahf_lm abm invpcid_single pti ssbd ibrs ibpb stibp fsgsbase tsc_adjust bmi1 avx2 smep bmi2 erms invpcid xsaveopt arat arch_capabilities\n",
            "bugs\t\t: cpu_meltdown spectre_v1 spectre_v2 spec_store_bypass l1tf\n",
            "bogomips\t: 4600.00\n",
            "clflush size\t: 64\n",
            "cache_alignment\t: 64\n",
            "address sizes\t: 46 bits physical, 48 bits virtual\n",
            "power management:\n",
            "\n",
            "processor\t: 1\n",
            "vendor_id\t: GenuineIntel\n",
            "cpu family\t: 6\n",
            "model\t\t: 63\n",
            "model name\t: Intel(R) Xeon(R) CPU @ 2.30GHz\n",
            "stepping\t: 0\n",
            "microcode\t: 0x1\n",
            "cpu MHz\t\t: 2300.000\n",
            "cache size\t: 46080 KB\n",
            "physical id\t: 0\n",
            "siblings\t: 2\n",
            "core id\t\t: 0\n",
            "cpu cores\t: 1\n",
            "apicid\t\t: 1\n",
            "initial apicid\t: 1\n",
            "fpu\t\t: yes\n",
            "fpu_exception\t: yes\n",
            "cpuid level\t: 13\n",
            "wp\t\t: yes\n",
            "flags\t\t: fpu vme de pse tsc msr pae mce cx8 apic sep mtrr pge mca cmov pat pse36 clflush mmx fxsr sse sse2 ss ht syscall nx pdpe1gb rdtscp lm constant_tsc rep_good nopl xtopology nonstop_tsc cpuid tsc_known_freq pni pclmulqdq ssse3 fma cx16 pcid sse4_1 sse4_2 x2apic movbe popcnt aes xsave avx f16c rdrand hypervisor lahf_lm abm invpcid_single pti ssbd ibrs ibpb stibp fsgsbase tsc_adjust bmi1 avx2 smep bmi2 erms invpcid xsaveopt arat arch_capabilities\n",
            "bugs\t\t: cpu_meltdown spectre_v1 spectre_v2 spec_store_bypass l1tf\n",
            "bogomips\t: 4600.00\n",
            "clflush size\t: 64\n",
            "cache_alignment\t: 64\n",
            "address sizes\t: 46 bits physical, 48 bits virtual\n",
            "power management:\n",
            "\n"
          ],
          "name": "stdout"
        }
      ]
    }
  ]
}