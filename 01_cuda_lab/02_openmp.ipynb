{
  "nbformat": 4,
  "nbformat_minor": 0,
  "metadata": {
    "colab": {
      "name": "02_openmp.ipynb",
      "version": "0.3.2",
      "provenance": [],
      "include_colab_link": true
    },
    "kernelspec": {
      "name": "python3",
      "display_name": "Python 3"
    }
  },
  "cells": [
    {
      "cell_type": "markdown",
      "metadata": {
        "id": "view-in-github",
        "colab_type": "text"
      },
      "source": [
        "<a href=\"https://colab.research.google.com/github/jeonggunlee/CUDATeaching/blob/master/01_cuda_lab/02_openmp.ipynb\" target=\"_parent\"><img src=\"https://colab.research.google.com/assets/colab-badge.svg\" alt=\"Open In Colab\"/></a>"
      ]
    },
    {
      "cell_type": "markdown",
      "metadata": {
        "id": "0aLN7JFf3war",
        "colab_type": "text"
      },
      "source": [
        "# OpenMP Exercise"
      ]
    },
    {
      "cell_type": "code",
      "metadata": {
        "id": "7lf4rqk9xgwC",
        "colab_type": "code",
        "colab": {
          "base_uri": "https://localhost:8080/",
          "height": 35
        },
        "outputId": "ef6329f9-7852-4781-81e1-12da47553643"
      },
      "source": [
        "%%writefile openmp1.c\n",
        "\n",
        "#include<stdio.h>\n",
        "\n",
        "int main(void)\n",
        "{\n",
        "    #pragma omp parallel\n",
        "    {\n",
        "        printf(\"Hello, world.\\n\");\n",
        "    }\n",
        "\n",
        "    return 0;\n",
        "}"
      ],
      "execution_count": 7,
      "outputs": [
        {
          "output_type": "stream",
          "text": [
            "Overwriting openmp1.c\n"
          ],
          "name": "stdout"
        }
      ]
    },
    {
      "cell_type": "code",
      "metadata": {
        "id": "xCoKVJiaxzWu",
        "colab_type": "code",
        "colab": {}
      },
      "source": [
        "!gcc -fopenmp openmp1.c -o openmp1"
      ],
      "execution_count": 0,
      "outputs": []
    },
    {
      "cell_type": "markdown",
      "metadata": {
        "id": "1TQb9w95yI4t",
        "colab_type": "text"
      },
      "source": [
        "colab 시스템이 기본적으로 two core 시스템이기 때문에 2번 진행"
      ]
    },
    {
      "cell_type": "code",
      "metadata": {
        "id": "Y5l7a06OyAym",
        "colab_type": "code",
        "colab": {
          "base_uri": "https://localhost:8080/",
          "height": 53
        },
        "outputId": "087da35e-966a-4fa6-e180-4b691ca0c1a4"
      },
      "source": [
        "!./openmp1"
      ],
      "execution_count": 6,
      "outputs": [
        {
          "output_type": "stream",
          "text": [
            "Hello, world.\n",
            "Hello, world.\n"
          ],
          "name": "stdout"
        }
      ]
    },
    {
      "cell_type": "code",
      "metadata": {
        "id": "jG-E21e62fw2",
        "colab_type": "code",
        "colab": {
          "base_uri": "https://localhost:8080/",
          "height": 35
        },
        "outputId": "1c9919e9-7916-486d-be02-c23910489f6f"
      },
      "source": [
        "%%writefile mmul.c\n",
        "\n",
        "#include <stdio.h>\n",
        "#include <stdlib.h>\n",
        "#include <omp.h>\n",
        "\n",
        "void transpose(double *A, double *B, int n) {\n",
        "    int i,j;\n",
        "    for(i=0; i<n; i++) {\n",
        "        for(j=0; j<n; j++) {\n",
        "            B[j*n+i] = A[i*n+j];\n",
        "        }\n",
        "    }\n",
        "}\n",
        "\n",
        "void gemm(double *A, double *B, double *C, int n) \n",
        "{   \n",
        "    int i, j, k;\n",
        "    for (i = 0; i < n; i++) { \n",
        "        for (j = 0; j < n; j++) {\n",
        "            double dot  = 0;\n",
        "            for (k = 0; k < n; k++) {\n",
        "                dot += A[i*n+k]*B[k*n+j];\n",
        "            } \n",
        "            C[i*n+j ] = dot;\n",
        "        }\n",
        "    }\n",
        "}\n",
        "\n",
        "void gemm_omp(double *A, double *B, double *C, int n) \n",
        "{   \n",
        "    #pragma omp parallel\n",
        "    {\n",
        "        int i, j, k;\n",
        "        #pragma omp for\n",
        "        for (i = 0; i < n; i++) { \n",
        "            for (j = 0; j < n; j++) {\n",
        "                double dot  = 0;\n",
        "                for (k = 0; k < n; k++) {\n",
        "                    dot += A[i*n+k]*B[k*n+j];\n",
        "                } \n",
        "                C[i*n+j ] = dot;\n",
        "            }\n",
        "        }\n",
        "\n",
        "    }\n",
        "}\n",
        "\n",
        "void gemmT(double *A, double *B, double *C, int n) \n",
        "{   \n",
        "    int i, j, k;\n",
        "    double *B2;\n",
        "    B2 = (double*)malloc(sizeof(double)*n*n);\n",
        "    transpose(B,B2, n);\n",
        "    for (i = 0; i < n; i++) { \n",
        "        for (j = 0; j < n; j++) {\n",
        "            double dot  = 0;\n",
        "            for (k = 0; k < n; k++) {\n",
        "                dot += A[i*n+k]*B2[j*n+k];\n",
        "            } \n",
        "            C[i*n+j ] = dot;\n",
        "        }\n",
        "    }\n",
        "    free(B2);\n",
        "}\n",
        "\n",
        "void gemmT_omp(double *A, double *B, double *C, int n) \n",
        "{   \n",
        "    double *B2;\n",
        "    B2 = (double*)malloc(sizeof(double)*n*n);\n",
        "    transpose(B,B2, n);\n",
        "    #pragma omp parallel\n",
        "    {\n",
        "        int i, j, k;\n",
        "        #pragma omp for\n",
        "        for (i = 0; i < n; i++) { \n",
        "            for (j = 0; j < n; j++) {\n",
        "                double dot  = 0;\n",
        "                for (k = 0; k < n; k++) {\n",
        "                    dot += A[i*n+k]*B2[j*n+k];\n",
        "                } \n",
        "                C[i*n+j ] = dot;\n",
        "            }\n",
        "        }\n",
        "\n",
        "    }\n",
        "    free(B2);\n",
        "}\n",
        "\n",
        "int main() {\n",
        "    int i, n;\n",
        "    double *A, *B, *C, dtime;\n",
        "\n",
        "    n=512;\n",
        "    A = (double*)malloc(sizeof(double)*n*n);\n",
        "    B = (double*)malloc(sizeof(double)*n*n);\n",
        "    C = (double*)malloc(sizeof(double)*n*n);\n",
        "    for(i=0; i<n*n; i++) { A[i] = rand()/RAND_MAX; B[i] = rand()/RAND_MAX;}\n",
        "\n",
        "    dtime = omp_get_wtime();\n",
        "    gemm(A,B,C, n);\n",
        "    dtime = omp_get_wtime() - dtime;\n",
        "    printf(\"%f\\n\", dtime);\n",
        "\n",
        "    dtime = omp_get_wtime();\n",
        "    gemm_omp(A,B,C, n);\n",
        "    dtime = omp_get_wtime() - dtime;\n",
        "    printf(\"%f\\n\", dtime);\n",
        "\n",
        "    dtime = omp_get_wtime();\n",
        "    gemmT(A,B,C, n);\n",
        "    dtime = omp_get_wtime() - dtime;\n",
        "    printf(\"%f\\n\", dtime);\n",
        "\n",
        "    dtime = omp_get_wtime();\n",
        "    gemmT_omp(A,B,C, n);\n",
        "    dtime = omp_get_wtime() - dtime;\n",
        "    printf(\"%f\\n\", dtime);\n",
        "\n",
        "    return 0;\n",
        "\n",
        "}"
      ],
      "execution_count": 8,
      "outputs": [
        {
          "output_type": "stream",
          "text": [
            "Writing mmul.c\n"
          ],
          "name": "stdout"
        }
      ]
    },
    {
      "cell_type": "code",
      "metadata": {
        "id": "ERyAcjeA2n_v",
        "colab_type": "code",
        "colab": {}
      },
      "source": [
        "!gcc -fopenmp mmul.c -o mmul"
      ],
      "execution_count": 0,
      "outputs": []
    },
    {
      "cell_type": "code",
      "metadata": {
        "id": "KWjSkOkX2r8X",
        "colab_type": "code",
        "colab": {
          "base_uri": "https://localhost:8080/",
          "height": 89
        },
        "outputId": "3bb212ed-7cb8-4061-e4f7-63de6ee3a1b7"
      },
      "source": [
        "!./mmul"
      ],
      "execution_count": 12,
      "outputs": [
        {
          "output_type": "stream",
          "text": [
            "1.080739\n",
            "0.855329\n",
            "0.490889\n",
            "0.456247\n"
          ],
          "name": "stdout"
        }
      ]
    },
    {
      "cell_type": "code",
      "metadata": {
        "id": "1JK3BFAi238m",
        "colab_type": "code",
        "colab": {
          "base_uri": "https://localhost:8080/",
          "height": 89
        },
        "outputId": "5c075544-5625-41d1-8e2e-7830185d1d0d"
      },
      "source": [
        "!./mmul"
      ],
      "execution_count": 15,
      "outputs": [
        {
          "output_type": "stream",
          "text": [
            "1.138967\n",
            "1.065722\n",
            "0.489838\n",
            "0.452821\n"
          ],
          "name": "stdout"
        }
      ]
    }
  ]
}