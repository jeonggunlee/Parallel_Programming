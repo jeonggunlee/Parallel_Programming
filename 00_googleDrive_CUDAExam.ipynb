{
  "nbformat": 4,
  "nbformat_minor": 0,
  "metadata": {
    "colab": {
      "name": "00_googleDrive_CUDAExam.ipynb",
      "version": "0.3.2",
      "provenance": [],
      "include_colab_link": true
    },
    "kernelspec": {
      "name": "python3",
      "display_name": "Python 3"
    },
    "accelerator": "GPU"
  },
  "cells": [
    {
      "cell_type": "markdown",
      "metadata": {
        "id": "view-in-github",
        "colab_type": "text"
      },
      "source": [
        "<a href=\"https://colab.research.google.com/github/jeonggunlee/CUDATeaching/blob/master/00_googleDrive_CUDAExam.ipynb\" target=\"_parent\"><img src=\"https://colab.research.google.com/assets/colab-badge.svg\" alt=\"Open In Colab\"/></a>"
      ]
    },
    {
      "cell_type": "markdown",
      "metadata": {
        "id": "rwT4adqPyCSL",
        "colab_type": "text"
      },
      "source": [
        "## Use of Google Drive for your GPU Coding\n",
        "\n",
        "- How to mount your Google Drive\n",
        "- How download source codes from you Github site to your Google Drive"
      ]
    },
    {
      "cell_type": "code",
      "metadata": {
        "id": "lwt6hjvawgy5",
        "colab_type": "code",
        "colab": {}
      },
      "source": [
        "from google.colab import drive"
      ],
      "execution_count": 0,
      "outputs": []
    },
    {
      "cell_type": "code",
      "metadata": {
        "id": "JfuMBZhrwkEz",
        "colab_type": "code",
        "outputId": "89178c46-5867-4e49-ecaa-f9df89cebd6f",
        "colab": {
          "base_uri": "https://localhost:8080/",
          "height": 36
        }
      },
      "source": [
        "drive.mount('/content/gdrive')"
      ],
      "execution_count": 2,
      "outputs": [
        {
          "output_type": "stream",
          "text": [
            "Drive already mounted at /content/gdrive; to attempt to forcibly remount, call drive.mount(\"/content/gdrive\", force_remount=True).\n"
          ],
          "name": "stdout"
        }
      ]
    },
    {
      "cell_type": "markdown",
      "metadata": {
        "id": "Sk22tQaHy9AB",
        "colab_type": "text"
      },
      "source": [
        "## Mount가 완료되면 여러분의 Google Drive로 들어가도록 합니다."
      ]
    },
    {
      "cell_type": "code",
      "metadata": {
        "id": "c4SIRCeAxuZ6",
        "colab_type": "code",
        "outputId": "f8362803-5f16-4300-9a1e-85c90a7bd11a",
        "colab": {
          "base_uri": "https://localhost:8080/",
          "height": 36
        }
      },
      "source": [
        "%cd /content"
      ],
      "execution_count": 3,
      "outputs": [
        {
          "output_type": "stream",
          "text": [
            "/content\n"
          ],
          "name": "stdout"
        }
      ]
    },
    {
      "cell_type": "code",
      "metadata": {
        "id": "0T7r6E_wx7sb",
        "colab_type": "code",
        "outputId": "423a6f49-4fb4-44a6-db72-f2d7eedd5851",
        "colab": {
          "base_uri": "https://localhost:8080/",
          "height": 36
        }
      },
      "source": [
        "!ls"
      ],
      "execution_count": 4,
      "outputs": [
        {
          "output_type": "stream",
          "text": [
            "gdrive\tsample_data\n"
          ],
          "name": "stdout"
        }
      ]
    },
    {
      "cell_type": "code",
      "metadata": {
        "id": "zgJG8sc5x8b6",
        "colab_type": "code",
        "outputId": "3baa7449-5cfe-46c8-ccc9-321c76d0c164",
        "colab": {
          "base_uri": "https://localhost:8080/",
          "height": 36
        }
      },
      "source": [
        "%cd gdrive"
      ],
      "execution_count": 5,
      "outputs": [
        {
          "output_type": "stream",
          "text": [
            "/content/gdrive\n"
          ],
          "name": "stdout"
        }
      ]
    },
    {
      "cell_type": "code",
      "metadata": {
        "id": "IOks_A0px-gL",
        "colab_type": "code",
        "outputId": "2e34ec7b-7b5d-40a7-eb37-b4f992a00634",
        "colab": {
          "base_uri": "https://localhost:8080/",
          "height": 36
        }
      },
      "source": [
        "!ls"
      ],
      "execution_count": 6,
      "outputs": [
        {
          "output_type": "stream",
          "text": [
            "'My Drive'\n"
          ],
          "name": "stdout"
        }
      ]
    },
    {
      "cell_type": "code",
      "metadata": {
        "id": "vJmG1Mhpx_dj",
        "colab_type": "code",
        "outputId": "40455c0e-7365-4922-f193-9d3f92c41d4b",
        "colab": {
          "base_uri": "https://localhost:8080/",
          "height": 36
        }
      },
      "source": [
        "%cd My Drive"
      ],
      "execution_count": 7,
      "outputs": [
        {
          "output_type": "stream",
          "text": [
            "/content/gdrive/My Drive\n"
          ],
          "name": "stdout"
        }
      ]
    },
    {
      "cell_type": "markdown",
      "metadata": {
        "id": "hZENpHbJzEMG",
        "colab_type": "text"
      },
      "source": [
        "## 최종적으로 Google Drive에 들어온 후에 GPUCoding 디렉토리를 Google Drive에서 만듭니다.\n",
        "## 생성 후 CPUCoding 디렉토리로 디렉토리 변경합니다."
      ]
    },
    {
      "cell_type": "code",
      "metadata": {
        "id": "bGIKG8rZu7oI",
        "colab_type": "code",
        "outputId": "26d376a9-45d7-4edc-b174-88764093b642",
        "colab": {
          "base_uri": "https://localhost:8080/",
          "height": 36
        }
      },
      "source": [
        "%cd GPUCoding"
      ],
      "execution_count": 8,
      "outputs": [
        {
          "output_type": "stream",
          "text": [
            "/content/gdrive/My Drive/GPUCoding\n"
          ],
          "name": "stdout"
        }
      ]
    },
    {
      "cell_type": "markdown",
      "metadata": {
        "id": "owAdGya3zMIK",
        "colab_type": "text"
      },
      "source": [
        "## 디렉토리 내에서 예제 화일들이 모여있는 Repository를 clone 합니다.\n"
      ]
    },
    {
      "cell_type": "code",
      "metadata": {
        "id": "jbUl1rt8vKMR",
        "colab_type": "code",
        "outputId": "261caf8d-3661-4b2a-bb08-28cd59ac8606",
        "colab": {
          "base_uri": "https://localhost:8080/",
          "height": 129
        }
      },
      "source": [
        "!git clone https://github.com/jeonggunlee/cs344/"
      ],
      "execution_count": 0,
      "outputs": [
        {
          "output_type": "stream",
          "text": [
            "Cloning into 'cs344'...\n",
            "remote: Enumerating objects: 726, done.\u001b[K\n",
            "remote: Total 726 (delta 0), reused 0 (delta 0), pack-reused 726\u001b[K\n",
            "Receiving objects: 100% (726/726), 66.62 MiB | 21.37 MiB/s, done.\n",
            "Resolving deltas: 100% (402/402), done.\n",
            "Checking out files: 100% (135/135), done.\n"
          ],
          "name": "stdout"
        }
      ]
    },
    {
      "cell_type": "code",
      "metadata": {
        "id": "0oVc2hwWv6fm",
        "colab_type": "code",
        "outputId": "9374fa2f-a7c4-4f21-96dd-99c1b089175f",
        "colab": {
          "base_uri": "https://localhost:8080/",
          "height": 36
        }
      },
      "source": [
        "!ls"
      ],
      "execution_count": 0,
      "outputs": [
        {
          "output_type": "stream",
          "text": [
            "cs344\n"
          ],
          "name": "stdout"
        }
      ]
    },
    {
      "cell_type": "code",
      "metadata": {
        "id": "Zev0VeK1v9We",
        "colab_type": "code",
        "outputId": "fe150676-0f62-40b7-f028-b17e0dbb2a6f",
        "colab": {
          "base_uri": "https://localhost:8080/",
          "height": 36
        }
      },
      "source": [
        "%cd cs344"
      ],
      "execution_count": 0,
      "outputs": [
        {
          "output_type": "stream",
          "text": [
            "/content/gdrive/My Drive/GPUCoding/cs344\n"
          ],
          "name": "stdout"
        }
      ]
    },
    {
      "cell_type": "markdown",
      "metadata": {
        "id": "anLc4DYQzvJB",
        "colab_type": "text"
      },
      "source": [
        "## 'Lesson Code Snippets' 디렉토리에 다양한 CUDA 예제가 포함되어 있습니다."
      ]
    },
    {
      "cell_type": "code",
      "metadata": {
        "id": "dPQEVuOJv_Sh",
        "colab_type": "code",
        "outputId": "33bc57a8-c4d0-492b-ecca-794555e59bcf",
        "colab": {
          "base_uri": "https://localhost:8080/",
          "height": 73
        }
      },
      "source": [
        "!ls"
      ],
      "execution_count": 0,
      "outputs": [
        {
          "output_type": "stream",
          "text": [
            " CMakeLists.txt\t\t'Lesson Slides'  'Student Contributions'\n",
            " Final\t\t\t'Problem Sets'\n",
            "'Lesson Code Snippets'\t README.md\n"
          ],
          "name": "stdout"
        }
      ]
    },
    {
      "cell_type": "code",
      "metadata": {
        "id": "JvBCLNohv_6a",
        "colab_type": "code",
        "outputId": "3f1ba1e4-6032-4053-a74a-57e096266f02",
        "colab": {
          "base_uri": "https://localhost:8080/",
          "height": 36
        }
      },
      "source": [
        "%cd 'Lesson Code Snippets'"
      ],
      "execution_count": 0,
      "outputs": [
        {
          "output_type": "stream",
          "text": [
            "/content/gdrive/My Drive/GPUCoding/cs344/Lesson Code Snippets\n"
          ],
          "name": "stdout"
        }
      ]
    },
    {
      "cell_type": "code",
      "metadata": {
        "id": "YG_GoCgFwFzU",
        "colab_type": "code",
        "outputId": "981a13c4-2848-4c4f-e8c7-eda4cd2c19e2",
        "colab": {
          "base_uri": "https://localhost:8080/",
          "height": 55
        }
      },
      "source": [
        "!ls"
      ],
      "execution_count": 0,
      "outputs": [
        {
          "output_type": "stream",
          "text": [
            "'Lesson 2 Code Snippets'  'Lesson 5 Code Snippets'\n",
            "'Lesson 3 Code Snippets'  'Lesson 7 Code Snippets'\n"
          ],
          "name": "stdout"
        }
      ]
    },
    {
      "cell_type": "code",
      "metadata": {
        "id": "U9ycqer9wG9H",
        "colab_type": "code",
        "outputId": "9d562e14-a5b5-4f87-cbd7-8be82d2049ac",
        "colab": {
          "base_uri": "https://localhost:8080/",
          "height": 36
        }
      },
      "source": [
        "%cd 'Lesson 2 Code Snippets'"
      ],
      "execution_count": 0,
      "outputs": [
        {
          "output_type": "stream",
          "text": [
            "/content/gdrive/My Drive/GPUCoding/cs344/Lesson Code Snippets/Lesson 2 Code Snippets\n"
          ],
          "name": "stdout"
        }
      ]
    },
    {
      "cell_type": "code",
      "metadata": {
        "id": "sdx17gLKwKg_",
        "colab_type": "code",
        "outputId": "c68313f0-7897-492a-82e2-961baed54101",
        "colab": {
          "base_uri": "https://localhost:8080/",
          "height": 55
        }
      },
      "source": [
        "!ls"
      ],
      "execution_count": 0,
      "outputs": [
        {
          "output_type": "stream",
          "text": [
            "associative.cu\tgputimer.h\t   hello_threadIdx.cu\n",
            "atomics.cu\thello_blockIdx.cu  memory.cu\n"
          ],
          "name": "stdout"
        }
      ]
    },
    {
      "cell_type": "code",
      "metadata": {
        "id": "jd8xFyNgwOZM",
        "colab_type": "code",
        "colab": {}
      },
      "source": [
        "!nvcc -o hello_threadIdx hello_threadIdx.cu"
      ],
      "execution_count": 0,
      "outputs": []
    },
    {
      "cell_type": "code",
      "metadata": {
        "id": "iKTA6N7OwWLP",
        "colab_type": "code",
        "outputId": "445171cd-ab85-48c6-e263-4c2a6b730b4a",
        "colab": {
          "base_uri": "https://localhost:8080/",
          "height": 4815
        }
      },
      "source": [
        "!./hello_threadIdx"
      ],
      "execution_count": 0,
      "outputs": [
        {
          "output_type": "stream",
          "text": [
            "Hello world! I'm thread 160\n",
            "Hello world! I'm thread 161\n",
            "Hello world! I'm thread 162\n",
            "Hello world! I'm thread 163\n",
            "Hello world! I'm thread 164\n",
            "Hello world! I'm thread 165\n",
            "Hello world! I'm thread 166\n",
            "Hello world! I'm thread 167\n",
            "Hello world! I'm thread 168\n",
            "Hello world! I'm thread 169\n",
            "Hello world! I'm thread 170\n",
            "Hello world! I'm thread 171\n",
            "Hello world! I'm thread 172\n",
            "Hello world! I'm thread 173\n",
            "Hello world! I'm thread 174\n",
            "Hello world! I'm thread 175\n",
            "Hello world! I'm thread 176\n",
            "Hello world! I'm thread 177\n",
            "Hello world! I'm thread 178\n",
            "Hello world! I'm thread 179\n",
            "Hello world! I'm thread 180\n",
            "Hello world! I'm thread 181\n",
            "Hello world! I'm thread 182\n",
            "Hello world! I'm thread 183\n",
            "Hello world! I'm thread 184\n",
            "Hello world! I'm thread 185\n",
            "Hello world! I'm thread 186\n",
            "Hello world! I'm thread 187\n",
            "Hello world! I'm thread 188\n",
            "Hello world! I'm thread 189\n",
            "Hello world! I'm thread 190\n",
            "Hello world! I'm thread 191\n",
            "Hello world! I'm thread 192\n",
            "Hello world! I'm thread 193\n",
            "Hello world! I'm thread 194\n",
            "Hello world! I'm thread 195\n",
            "Hello world! I'm thread 196\n",
            "Hello world! I'm thread 197\n",
            "Hello world! I'm thread 198\n",
            "Hello world! I'm thread 199\n",
            "Hello world! I'm thread 200\n",
            "Hello world! I'm thread 201\n",
            "Hello world! I'm thread 202\n",
            "Hello world! I'm thread 203\n",
            "Hello world! I'm thread 204\n",
            "Hello world! I'm thread 205\n",
            "Hello world! I'm thread 206\n",
            "Hello world! I'm thread 207\n",
            "Hello world! I'm thread 208\n",
            "Hello world! I'm thread 209\n",
            "Hello world! I'm thread 210\n",
            "Hello world! I'm thread 211\n",
            "Hello world! I'm thread 212\n",
            "Hello world! I'm thread 213\n",
            "Hello world! I'm thread 214\n",
            "Hello world! I'm thread 215\n",
            "Hello world! I'm thread 216\n",
            "Hello world! I'm thread 217\n",
            "Hello world! I'm thread 218\n",
            "Hello world! I'm thread 219\n",
            "Hello world! I'm thread 220\n",
            "Hello world! I'm thread 221\n",
            "Hello world! I'm thread 222\n",
            "Hello world! I'm thread 223\n",
            "Hello world! I'm thread 224\n",
            "Hello world! I'm thread 225\n",
            "Hello world! I'm thread 226\n",
            "Hello world! I'm thread 227\n",
            "Hello world! I'm thread 228\n",
            "Hello world! I'm thread 229\n",
            "Hello world! I'm thread 230\n",
            "Hello world! I'm thread 231\n",
            "Hello world! I'm thread 232\n",
            "Hello world! I'm thread 233\n",
            "Hello world! I'm thread 234\n",
            "Hello world! I'm thread 235\n",
            "Hello world! I'm thread 236\n",
            "Hello world! I'm thread 237\n",
            "Hello world! I'm thread 238\n",
            "Hello world! I'm thread 239\n",
            "Hello world! I'm thread 240\n",
            "Hello world! I'm thread 241\n",
            "Hello world! I'm thread 242\n",
            "Hello world! I'm thread 243\n",
            "Hello world! I'm thread 244\n",
            "Hello world! I'm thread 245\n",
            "Hello world! I'm thread 246\n",
            "Hello world! I'm thread 247\n",
            "Hello world! I'm thread 248\n",
            "Hello world! I'm thread 249\n",
            "Hello world! I'm thread 250\n",
            "Hello world! I'm thread 251\n",
            "Hello world! I'm thread 252\n",
            "Hello world! I'm thread 253\n",
            "Hello world! I'm thread 254\n",
            "Hello world! I'm thread 255\n",
            "Hello world! I'm thread 128\n",
            "Hello world! I'm thread 129\n",
            "Hello world! I'm thread 130\n",
            "Hello world! I'm thread 131\n",
            "Hello world! I'm thread 132\n",
            "Hello world! I'm thread 133\n",
            "Hello world! I'm thread 134\n",
            "Hello world! I'm thread 135\n",
            "Hello world! I'm thread 136\n",
            "Hello world! I'm thread 137\n",
            "Hello world! I'm thread 138\n",
            "Hello world! I'm thread 139\n",
            "Hello world! I'm thread 140\n",
            "Hello world! I'm thread 141\n",
            "Hello world! I'm thread 142\n",
            "Hello world! I'm thread 143\n",
            "Hello world! I'm thread 144\n",
            "Hello world! I'm thread 145\n",
            "Hello world! I'm thread 146\n",
            "Hello world! I'm thread 147\n",
            "Hello world! I'm thread 148\n",
            "Hello world! I'm thread 149\n",
            "Hello world! I'm thread 150\n",
            "Hello world! I'm thread 151\n",
            "Hello world! I'm thread 152\n",
            "Hello world! I'm thread 153\n",
            "Hello world! I'm thread 154\n",
            "Hello world! I'm thread 155\n",
            "Hello world! I'm thread 156\n",
            "Hello world! I'm thread 157\n",
            "Hello world! I'm thread 158\n",
            "Hello world! I'm thread 159\n",
            "Hello world! I'm thread 32\n",
            "Hello world! I'm thread 33\n",
            "Hello world! I'm thread 34\n",
            "Hello world! I'm thread 35\n",
            "Hello world! I'm thread 36\n",
            "Hello world! I'm thread 37\n",
            "Hello world! I'm thread 38\n",
            "Hello world! I'm thread 39\n",
            "Hello world! I'm thread 40\n",
            "Hello world! I'm thread 41\n",
            "Hello world! I'm thread 42\n",
            "Hello world! I'm thread 43\n",
            "Hello world! I'm thread 44\n",
            "Hello world! I'm thread 45\n",
            "Hello world! I'm thread 46\n",
            "Hello world! I'm thread 47\n",
            "Hello world! I'm thread 48\n",
            "Hello world! I'm thread 49\n",
            "Hello world! I'm thread 50\n",
            "Hello world! I'm thread 51\n",
            "Hello world! I'm thread 52\n",
            "Hello world! I'm thread 53\n",
            "Hello world! I'm thread 54\n",
            "Hello world! I'm thread 55\n",
            "Hello world! I'm thread 56\n",
            "Hello world! I'm thread 57\n",
            "Hello world! I'm thread 58\n",
            "Hello world! I'm thread 59\n",
            "Hello world! I'm thread 60\n",
            "Hello world! I'm thread 61\n",
            "Hello world! I'm thread 62\n",
            "Hello world! I'm thread 63\n",
            "Hello world! I'm thread 96\n",
            "Hello world! I'm thread 97\n",
            "Hello world! I'm thread 98\n",
            "Hello world! I'm thread 99\n",
            "Hello world! I'm thread 100\n",
            "Hello world! I'm thread 101\n",
            "Hello world! I'm thread 102\n",
            "Hello world! I'm thread 103\n",
            "Hello world! I'm thread 104\n",
            "Hello world! I'm thread 105\n",
            "Hello world! I'm thread 106\n",
            "Hello world! I'm thread 107\n",
            "Hello world! I'm thread 108\n",
            "Hello world! I'm thread 109\n",
            "Hello world! I'm thread 110\n",
            "Hello world! I'm thread 111\n",
            "Hello world! I'm thread 112\n",
            "Hello world! I'm thread 113\n",
            "Hello world! I'm thread 114\n",
            "Hello world! I'm thread 115\n",
            "Hello world! I'm thread 116\n",
            "Hello world! I'm thread 117\n",
            "Hello world! I'm thread 118\n",
            "Hello world! I'm thread 119\n",
            "Hello world! I'm thread 120\n",
            "Hello world! I'm thread 121\n",
            "Hello world! I'm thread 122\n",
            "Hello world! I'm thread 123\n",
            "Hello world! I'm thread 124\n",
            "Hello world! I'm thread 125\n",
            "Hello world! I'm thread 126\n",
            "Hello world! I'm thread 127\n",
            "Hello world! I'm thread 64\n",
            "Hello world! I'm thread 65\n",
            "Hello world! I'm thread 66\n",
            "Hello world! I'm thread 67\n",
            "Hello world! I'm thread 68\n",
            "Hello world! I'm thread 69\n",
            "Hello world! I'm thread 70\n",
            "Hello world! I'm thread 71\n",
            "Hello world! I'm thread 72\n",
            "Hello world! I'm thread 73\n",
            "Hello world! I'm thread 74\n",
            "Hello world! I'm thread 75\n",
            "Hello world! I'm thread 76\n",
            "Hello world! I'm thread 77\n",
            "Hello world! I'm thread 78\n",
            "Hello world! I'm thread 79\n",
            "Hello world! I'm thread 80\n",
            "Hello world! I'm thread 81\n",
            "Hello world! I'm thread 82\n",
            "Hello world! I'm thread 83\n",
            "Hello world! I'm thread 84\n",
            "Hello world! I'm thread 85\n",
            "Hello world! I'm thread 86\n",
            "Hello world! I'm thread 87\n",
            "Hello world! I'm thread 88\n",
            "Hello world! I'm thread 89\n",
            "Hello world! I'm thread 90\n",
            "Hello world! I'm thread 91\n",
            "Hello world! I'm thread 92\n",
            "Hello world! I'm thread 93\n",
            "Hello world! I'm thread 94\n",
            "Hello world! I'm thread 95\n",
            "Hello world! I'm thread 0\n",
            "Hello world! I'm thread 1\n",
            "Hello world! I'm thread 2\n",
            "Hello world! I'm thread 3\n",
            "Hello world! I'm thread 4\n",
            "Hello world! I'm thread 5\n",
            "Hello world! I'm thread 6\n",
            "Hello world! I'm thread 7\n",
            "Hello world! I'm thread 8\n",
            "Hello world! I'm thread 9\n",
            "Hello world! I'm thread 10\n",
            "Hello world! I'm thread 11\n",
            "Hello world! I'm thread 12\n",
            "Hello world! I'm thread 13\n",
            "Hello world! I'm thread 14\n",
            "Hello world! I'm thread 15\n",
            "Hello world! I'm thread 16\n",
            "Hello world! I'm thread 17\n",
            "Hello world! I'm thread 18\n",
            "Hello world! I'm thread 19\n",
            "Hello world! I'm thread 20\n",
            "Hello world! I'm thread 21\n",
            "Hello world! I'm thread 22\n",
            "Hello world! I'm thread 23\n",
            "Hello world! I'm thread 24\n",
            "Hello world! I'm thread 25\n",
            "Hello world! I'm thread 26\n",
            "Hello world! I'm thread 27\n",
            "Hello world! I'm thread 28\n",
            "Hello world! I'm thread 29\n",
            "Hello world! I'm thread 30\n",
            "Hello world! I'm thread 31\n",
            "That's all!\n"
          ],
          "name": "stdout"
        }
      ]
    },
    {
      "cell_type": "code",
      "metadata": {
        "id": "YuKwN4qtwY8j",
        "colab_type": "code",
        "outputId": "cfd37eef-19fe-433c-a4e4-3474bcc88270",
        "colab": {
          "base_uri": "https://localhost:8080/",
          "height": 55
        }
      },
      "source": [
        "!ls"
      ],
      "execution_count": 0,
      "outputs": [
        {
          "output_type": "stream",
          "text": [
            "associative.cu\tgputimer.h\t   hello_threadIdx     memory.cu\n",
            "atomics.cu\thello_blockIdx.cu  hello_threadIdx.cu\n"
          ],
          "name": "stdout"
        }
      ]
    },
    {
      "cell_type": "code",
      "metadata": {
        "id": "2iRMvEUOwcMI",
        "colab_type": "code",
        "outputId": "80aca0d0-a5cf-4130-8334-facf79f94431",
        "colab": {
          "base_uri": "https://localhost:8080/",
          "height": 447
        }
      },
      "source": [
        "!cat hello_threadIdx.cu"
      ],
      "execution_count": 0,
      "outputs": [
        {
          "output_type": "stream",
          "text": [
            "#include <stdio.h>\n",
            "\n",
            "#define NUM_BLOCKS 1\n",
            "#define BLOCK_WIDTH 256\n",
            "\n",
            "__global__ void hello()\n",
            "{\n",
            "    printf(\"Hello world! I'm thread %d\\n\", threadIdx.x);\n",
            "}\n",
            "\n",
            "\n",
            "int main(int argc,char **argv)\n",
            "{\n",
            "    // launch the kernel\n",
            "    hello<<<NUM_BLOCKS, BLOCK_WIDTH>>>();\n",
            "\n",
            "    // force the printf()s to flush\n",
            "    cudaDeviceSynchronize();\n",
            "\n",
            "    printf(\"That's all!\\n\");\n",
            "\n",
            "    return 0;\n",
            "}\n"
          ],
          "name": "stdout"
        }
      ]
    },
    {
      "cell_type": "code",
      "metadata": {
        "id": "RciMtJV7wgBd",
        "colab_type": "code",
        "outputId": "76a72625-0499-420b-cf07-8956a55a1b89",
        "colab": {
          "base_uri": "https://localhost:8080/",
          "height": 55
        }
      },
      "source": [
        "!ls"
      ],
      "execution_count": 0,
      "outputs": [
        {
          "output_type": "stream",
          "text": [
            "associative.cu\tgputimer.h\t   hello_threadIdx     memory.cu\n",
            "atomics.cu\thello_blockIdx.cu  hello_threadIdx.cu\n"
          ],
          "name": "stdout"
        }
      ]
    },
    {
      "cell_type": "code",
      "metadata": {
        "id": "SmJGXivkwlqg",
        "colab_type": "code",
        "outputId": "adf8090d-44f8-4f92-916c-84e41365870b",
        "colab": {
          "base_uri": "https://localhost:8080/",
          "height": 55
        }
      },
      "source": [
        "!nvcc -o memory memory.cu"
      ],
      "execution_count": 0,
      "outputs": [
        {
          "output_type": "stream",
          "text": [
            "memory.cu(11): warning: variable \"f\" was set but never used\n",
            "\n"
          ],
          "name": "stdout"
        }
      ]
    },
    {
      "cell_type": "code",
      "metadata": {
        "id": "4d9gGNSJwoOv",
        "colab_type": "code",
        "colab": {}
      },
      "source": [
        "!./memory"
      ],
      "execution_count": 0,
      "outputs": []
    },
    {
      "cell_type": "code",
      "metadata": {
        "id": "FCXsvSqnwqm7",
        "colab_type": "code",
        "colab": {}
      },
      "source": [
        "!nvcc -o associative associative.cu"
      ],
      "execution_count": 0,
      "outputs": []
    },
    {
      "cell_type": "code",
      "metadata": {
        "id": "AiBjTBSswuwx",
        "colab_type": "code",
        "outputId": "4d501cc0-0b91-4560-82f6-efb17b9d0d48",
        "colab": {
          "base_uri": "https://localhost:8080/",
          "height": 55
        }
      },
      "source": [
        "!./associative"
      ],
      "execution_count": 0,
      "outputs": [
        {
          "output_type": "stream",
          "text": [
            "(1 + 1e+99) + -1e+99 == 0\n",
            "1 + (1e+99 + -1e+99) == 1\n"
          ],
          "name": "stdout"
        }
      ]
    },
    {
      "cell_type": "code",
      "metadata": {
        "id": "DBROeYZZwwih",
        "colab_type": "code",
        "colab": {}
      },
      "source": [
        "!nvcc -o atomics atomics.cu"
      ],
      "execution_count": 0,
      "outputs": []
    },
    {
      "cell_type": "code",
      "metadata": {
        "id": "DZbnLYiww2lj",
        "colab_type": "code",
        "outputId": "363066da-362b-4496-db12-c1ed7cf0644a",
        "colab": {
          "base_uri": "https://localhost:8080/",
          "height": 93
        }
      },
      "source": [
        "!./atomics"
      ],
      "execution_count": 0,
      "outputs": [
        {
          "output_type": "stream",
          "text": [
            "1000000 total threads in 1000 blocks writing into 100 array elements\n",
            "{ 10000 10000 10000 10000 10000 10000 10000 10000 10000 10000 10000 10000 10000 10000 10000 10000 10000 10000 10000 10000 10000 10000 10000 10000 10000 10000 10000 10000 10000 10000 10000 10000 10000 10000 10000 10000 10000 10000 10000 10000 10000 10000 10000 10000 10000 10000 10000 10000 10000 10000 10000 10000 10000 10000 10000 10000 10000 10000 10000 10000 10000 10000 10000 10000 10000 10000 10000 10000 10000 10000 10000 10000 10000 10000 10000 10000 10000 10000 10000 10000 10000 10000 10000 10000 10000 10000 10000 10000 10000 10000 10000 10000 10000 10000 10000 10000 10000 10000 10000 10000 }\n",
            "Time elapsed = 0.172832 ms\n"
          ],
          "name": "stdout"
        }
      ]
    },
    {
      "cell_type": "code",
      "metadata": {
        "id": "FANGs9Z2w4MM",
        "colab_type": "code",
        "colab": {}
      },
      "source": [
        ""
      ],
      "execution_count": 0,
      "outputs": []
    }
  ]
}